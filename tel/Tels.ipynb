{
 "cells": [
  {
   "cell_type": "code",
   "execution_count": null,
   "metadata": {},
   "outputs": [],
   "source": [
    "from dataclasses import dataclass\n",
    "from datetime import datetime, timedelta\n",
    "import lib.config as config\n",
    "from lib.simulation import run\n",
    "from lib.stochastic import normal, uniform, linear, multiplicative, run_stochastic\n",
    "\n",
    "%matplotlib inline"
   ]
  },
  {
   "cell_type": "code",
   "execution_count": null,
   "metadata": {},
   "outputs": [],
   "source": [
    "@dataclass\n",
    "class ExampleConfig(config.MediumAlert):\n",
    "    tel_speed_kmph: float = linear(10, 10)\n",
    "    tel_max_roam_km: float = multiplicative(200, 1.2)\n",
    "        \n",
    "run_stochastic(ExampleConfig, \"example\", iterations=10)"
   ]
  },
  {
   "cell_type": "code",
   "execution_count": null,
   "metadata": {},
   "outputs": [],
   "source": [
    "# Reproduce results from first draft.\n",
    "\n",
    "for c in config.static_configs:\n",
    "    print(\"Testing using config:\")\n",
    "    print(c)\n",
    "    run(c)"
   ]
  }
 ],
 "metadata": {
  "kernelspec": {
   "display_name": "Python 3",
   "language": "python",
   "name": "python3"
  },
  "language_info": {
   "codemirror_mode": {
    "name": "ipython",
    "version": 3
   },
   "file_extension": ".py",
   "mimetype": "text/x-python",
   "name": "python",
   "nbconvert_exporter": "python",
   "pygments_lexer": "ipython3",
   "version": "3.7.9"
  }
 },
 "nbformat": 4,
 "nbformat_minor": 4
}
