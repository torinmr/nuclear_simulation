{
 "cells": [
  {
   "cell_type": "code",
   "execution_count": 5,
   "metadata": {},
   "outputs": [],
   "source": [
    "from datetime import datetime, timedelta\n",
    "from lib.simulation import Simulation\n",
    "\n",
    "# for auto-reloading external modules\n",
    "# see http://stackoverflow.com/questions/1907993/autoreload-of-modules-in-ipython\n",
    "%load_ext autoreload\n",
    "%autoreload 2\n",
    "\n"
   ]
  },
  {
   "cell_type": "code",
   "execution_count": 6,
   "metadata": {},
   "outputs": [
    {
     "name": "stdout",
     "output_type": "stream",
     "text": [
      "Rendering at time:  2021-01-20 12:00:00+08:00\n",
      "Rendering at time:  2021-01-20 13:00:00+08:00\n",
      "Rendering at time:  2021-01-20 14:00:00+08:00\n",
      "Rendering at time:  2021-01-20 15:00:00+08:00\n",
      "Rendering at time:  2021-01-20 16:00:00+08:00\n",
      "Rendering at time:  2021-01-20 17:00:00+08:00\n",
      "Rendering at time:  2021-01-20 18:00:00+08:00\n",
      "Rendering at time:  2021-01-20 19:00:00+08:00\n",
      "Rendering at time:  2021-01-20 20:00:00+08:00\n",
      "Rendering at time:  2021-01-20 21:00:00+08:00\n",
      "Rendering at time:  2021-01-20 22:00:00+08:00\n",
      "Rendering at time:  2021-01-20 23:00:00+08:00\n",
      "Rendering at time:  2021-01-21 00:00:00+08:00\n",
      "Rendering at time:  2021-01-21 01:00:00+08:00\n",
      "Rendering at time:  2021-01-21 02:00:00+08:00\n",
      "Rendering at time:  2021-01-21 03:00:00+08:00\n",
      "Rendering at time:  2021-01-21 04:00:00+08:00\n",
      "Rendering at time:  2021-01-21 05:00:00+08:00\n",
      "Rendering at time:  2021-01-21 06:00:00+08:00\n",
      "Rendering at time:  2021-01-21 07:00:00+08:00\n",
      "Rendering at time:  2021-01-21 08:00:00+08:00\n",
      "Rendering at time:  2021-01-21 09:00:00+08:00\n",
      "Rendering at time:  2021-01-21 10:00:00+08:00\n",
      "Rendering at time:  2021-01-21 11:00:00+08:00\n",
      "Rendering at time:  2021-01-21 12:00:00+08:00\n",
      "Rendering at time:  2021-01-21 12:00:00+08:00\n"
     ]
    }
   ],
   "source": [
    "s = Simulation(runtime=timedelta(days=1))\n",
    "s.run()"
   ]
  },
  {
   "cell_type": "code",
   "execution_count": null,
   "metadata": {},
   "outputs": [],
   "source": []
  }
 ],
 "metadata": {
  "kernelspec": {
   "display_name": "Python 3",
   "language": "python",
   "name": "python3"
  },
  "language_info": {
   "codemirror_mode": {
    "name": "ipython",
    "version": 3
   },
   "file_extension": ".py",
   "mimetype": "text/x-python",
   "name": "python",
   "nbconvert_exporter": "python",
   "pygments_lexer": "ipython3",
   "version": "3.7.6"
  }
 },
 "nbformat": 4,
 "nbformat_minor": 4
}
